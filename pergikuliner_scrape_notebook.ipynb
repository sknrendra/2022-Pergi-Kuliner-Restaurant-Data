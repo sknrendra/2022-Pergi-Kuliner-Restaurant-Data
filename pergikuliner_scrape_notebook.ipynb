{
 "cells": [
  {
   "cell_type": "code",
   "execution_count": 1,
   "metadata": {},
   "outputs": [],
   "source": [
    "import pandas as pd\n",
    "from selenium import webdriver\n",
    "from selenium.webdriver.common.by import By\n",
    "from selenium.webdriver.support.wait import WebDriverWait\n",
    "from bs4 import BeautifulSoup\n",
    "import re"
   ]
  },
  {
   "cell_type": "code",
   "execution_count": 149,
   "metadata": {},
   "outputs": [],
   "source": [
    "def selenium_getsource(link):\n",
    "    browser = webdriver.Chrome(executable_path=\"/usr/local/bin/chromedriver\")\n",
    "    browser.get(link)\n",
    "    source = browser.page_source\n",
    "    browser.close()\n",
    "    return source\n",
    "\n",
    "def retrieve_pergikuliner(url):\n",
    "    soup = BeautifulSoup(selenium_getsource(url))\n",
    "    restaurant = pd.Series([])\n",
    "    #imprecise\n",
    "    restaurant[0] = soup.h1.get_text()\n",
    "    restaurant[1] = soup.find(attrs={'class':'info-list'}).li.get_text()\n",
    "    restaurant[2] = soup(attrs={'class': 'left'})[1].get_text()\n",
    "    restaurant[3] = soup.link.get('href')\n",
    "\n",
    "    #not cleared\n",
    "    restaurant[4] = soup.find(class_='info-list').find_all('li')[-1].get_text()\n",
    "    #check multi-valued attributes\n",
    "    restaurant[5] = re.search('(?<=content=).+?\"', str(soup.find(itemprop='paymentAccepted'))).group()\n",
    "    #precise\n",
    "    promo = soup.find(attrs={'class': 'promotional-text'})\n",
    "    restaurant[6] = str(promo.get_text) if promo is not None else None\n",
    "    restaurant[7] = soup.find(string=re.compile('Rp. .* '))\n",
    "    schedule = soup.find(attrs={'itemprop': 'openingHours'})\n",
    "    restaurant[8] = str(schedule.get_text) if schedule is not None else None\n",
    "\n",
    "    #cleared\n",
    "    restaurant[9] = ','.join([result.get_text() for result in soup(class_='checked')])\n",
    "    restaurant[10] = ','.join([result.get_text() for result in soup(class_='unchecked')])\n",
    "    restaurant[11] = soup.find(href=re.compile(\"tel.*\")).get_text()\n",
    "    restaurant[12] = soup.find(itemprop='ratingValue').get_text()\n",
    "    #kalo dibawah 4 ratingnya suka ga muncul\n",
    "    restaurant[13] = ','.join([i.getText().strip() for i in soup.find_all(class_='rate-box-bottom best-rating')])\n",
    "    return restaurant\n"
   ]
  },
  {
   "cell_type": "code",
   "execution_count": null,
   "metadata": {},
   "outputs": [],
   "source": [
    "restaurants_compiled = []\n",
    "\n",
    "for pageindex in range(1, 126):\n",
    "    soup = BeautifulSoup(selenium_getsource(f'https://pergikuliner.com/restaurants?page={pageindex}'))\n",
    "    links = soup.find_all(href=re.compile('restaurants'))\n",
    "    for i in range(1, len(links), 2):\n",
    "        urltest = re.search('/.*/.*/.*(?=\")', str(links[i]))\n",
    "        if urltest is None:\n",
    "            pass\n",
    "        else:\n",
    "            urlext = urltest.group()\n",
    "            restaurants_compiled.append(retrieve_pergikuliner(f'https://pergikuliner.com{urlext}'))\n",
    "\n",
    "\n",
    "restaurants_dataset = pd.concat(restaurants_compiled, axis=1).T"
   ]
  },
  {
   "cell_type": "code",
   "execution_count": 10,
   "metadata": {},
   "outputs": [
    {
     "ename": "NoSuchElementException",
     "evalue": "Message: no such element: Unable to locate element: {\"method\":\"link text\",\"selector\":\"Tampilkan review sebelumnya\"}\n  (Session info: chrome=101.0.4951.64)\nStacktrace:\n#0 0x55c2edfe9533 <unknown>\n#1 0x55c2edd481e8 <unknown>\n#2 0x55c2edd7e2d7 <unknown>\n#3 0x55c2edd7e4a1 <unknown>\n#4 0x55c2eddb1494 <unknown>\n#5 0x55c2edd9bf6d <unknown>\n#6 0x55c2eddaf224 <unknown>\n#7 0x55c2edd9be33 <unknown>\n#8 0x55c2edd7171a <unknown>\n#9 0x55c2edd72875 <unknown>\n#10 0x55c2ee02de1d <unknown>\n#11 0x55c2ee031751 <unknown>\n#12 0x55c2ee01807e <unknown>\n#13 0x55c2ee032388 <unknown>\n#14 0x55c2ee00cfe0 <unknown>\n#15 0x55c2ee04e748 <unknown>\n#16 0x55c2ee04e8c8 <unknown>\n#17 0x55c2ee06870d <unknown>\n#18 0x7fe1a5cedb43 <unknown>\n",
     "output_type": "error",
     "traceback": [
      "\u001b[0;31m---------------------------------------------------------------------------\u001b[0m",
      "\u001b[0;31mNoSuchElementException\u001b[0m                    Traceback (most recent call last)",
      "\u001b[1;32m/home/idlemaker/Documents/GitHub/2022-Pergi-Kuliner-Restaurant-Data/pergikuliner_scrape_notebook.ipynb Cell 4'\u001b[0m in \u001b[0;36m<cell line: 26>\u001b[0;34m()\u001b[0m\n\u001b[1;32m     <a href='vscode-notebook-cell:/home/idlemaker/Documents/GitHub/2022-Pergi-Kuliner-Restaurant-Data/pergikuliner_scrape_notebook.ipynb#ch0000003?line=21'>22</a>\u001b[0m     \u001b[39m#then loop through all of them\u001b[39;00m\n\u001b[1;32m     <a href='vscode-notebook-cell:/home/idlemaker/Documents/GitHub/2022-Pergi-Kuliner-Restaurant-Data/pergikuliner_scrape_notebook.ipynb#ch0000003?line=23'>24</a>\u001b[0m driver \u001b[39m=\u001b[39m driver_setup()\n\u001b[0;32m---> <a href='vscode-notebook-cell:/home/idlemaker/Documents/GitHub/2022-Pergi-Kuliner-Restaurant-Data/pergikuliner_scrape_notebook.ipynb#ch0000003?line=25'>26</a>\u001b[0m review_fetcher(\u001b[39m'\u001b[39;49m\u001b[39mhttps://pergikuliner.com/restaurants/jakarta/shaburi-dan-kintan-buffet-scbd\u001b[39;49m\u001b[39m'\u001b[39;49m, driver)\n",
      "\u001b[1;32m/home/idlemaker/Documents/GitHub/2022-Pergi-Kuliner-Restaurant-Data/pergikuliner_scrape_notebook.ipynb Cell 4'\u001b[0m in \u001b[0;36mreview_fetcher\u001b[0;34m(url, driver)\u001b[0m\n\u001b[1;32m     <a href='vscode-notebook-cell:/home/idlemaker/Documents/GitHub/2022-Pergi-Kuliner-Restaurant-Data/pergikuliner_scrape_notebook.ipynb#ch0000003?line=17'>18</a>\u001b[0m \u001b[39mdef\u001b[39;00m \u001b[39mreview_fetcher\u001b[39m(url, driver):\n\u001b[1;32m     <a href='vscode-notebook-cell:/home/idlemaker/Documents/GitHub/2022-Pergi-Kuliner-Restaurant-Data/pergikuliner_scrape_notebook.ipynb#ch0000003?line=18'>19</a>\u001b[0m     \u001b[39m#check if all the reviews are opened\u001b[39;00m\n\u001b[1;32m     <a href='vscode-notebook-cell:/home/idlemaker/Documents/GitHub/2022-Pergi-Kuliner-Restaurant-Data/pergikuliner_scrape_notebook.ipynb#ch0000003?line=19'>20</a>\u001b[0m     driver\u001b[39m.\u001b[39mget(url)\n\u001b[0;32m---> <a href='vscode-notebook-cell:/home/idlemaker/Documents/GitHub/2022-Pergi-Kuliner-Restaurant-Data/pergikuliner_scrape_notebook.ipynb#ch0000003?line=20'>21</a>\u001b[0m     check_review_state(driver)\n",
      "\u001b[1;32m/home/idlemaker/Documents/GitHub/2022-Pergi-Kuliner-Restaurant-Data/pergikuliner_scrape_notebook.ipynb Cell 4'\u001b[0m in \u001b[0;36mcheck_review_state\u001b[0;34m(driver)\u001b[0m\n\u001b[1;32m     <a href='vscode-notebook-cell:/home/idlemaker/Documents/GitHub/2022-Pergi-Kuliner-Restaurant-Data/pergikuliner_scrape_notebook.ipynb#ch0000003?line=13'>14</a>\u001b[0m \u001b[39mwhile\u001b[39;00m show_next_review:\n\u001b[1;32m     <a href='vscode-notebook-cell:/home/idlemaker/Documents/GitHub/2022-Pergi-Kuliner-Restaurant-Data/pergikuliner_scrape_notebook.ipynb#ch0000003?line=14'>15</a>\u001b[0m     show_next_review\u001b[39m.\u001b[39mclick()\n\u001b[0;32m---> <a href='vscode-notebook-cell:/home/idlemaker/Documents/GitHub/2022-Pergi-Kuliner-Restaurant-Data/pergikuliner_scrape_notebook.ipynb#ch0000003?line=15'>16</a>\u001b[0m     check_review_state(driver)\n",
      "\u001b[1;32m/home/idlemaker/Documents/GitHub/2022-Pergi-Kuliner-Restaurant-Data/pergikuliner_scrape_notebook.ipynb Cell 4'\u001b[0m in \u001b[0;36mcheck_review_state\u001b[0;34m(driver)\u001b[0m\n\u001b[1;32m     <a href='vscode-notebook-cell:/home/idlemaker/Documents/GitHub/2022-Pergi-Kuliner-Restaurant-Data/pergikuliner_scrape_notebook.ipynb#ch0000003?line=11'>12</a>\u001b[0m \u001b[39mdef\u001b[39;00m \u001b[39mcheck_review_state\u001b[39m(driver):\n\u001b[0;32m---> <a href='vscode-notebook-cell:/home/idlemaker/Documents/GitHub/2022-Pergi-Kuliner-Restaurant-Data/pergikuliner_scrape_notebook.ipynb#ch0000003?line=12'>13</a>\u001b[0m     show_next_review \u001b[39m=\u001b[39m driver\u001b[39m.\u001b[39;49mfind_element(By\u001b[39m.\u001b[39;49mLINK_TEXT, \u001b[39m\"\u001b[39;49m\u001b[39mTampilkan review sebelumnya\u001b[39;49m\u001b[39m\"\u001b[39;49m)\n\u001b[1;32m     <a href='vscode-notebook-cell:/home/idlemaker/Documents/GitHub/2022-Pergi-Kuliner-Restaurant-Data/pergikuliner_scrape_notebook.ipynb#ch0000003?line=13'>14</a>\u001b[0m     \u001b[39mwhile\u001b[39;00m show_next_review:\n\u001b[1;32m     <a href='vscode-notebook-cell:/home/idlemaker/Documents/GitHub/2022-Pergi-Kuliner-Restaurant-Data/pergikuliner_scrape_notebook.ipynb#ch0000003?line=14'>15</a>\u001b[0m         show_next_review\u001b[39m.\u001b[39mclick()\n",
      "File \u001b[0;32m~/.conda/envs/dsenv/lib/python3.10/site-packages/selenium/webdriver/remote/webdriver.py:1244\u001b[0m, in \u001b[0;36mWebDriver.find_element\u001b[0;34m(self, by, value)\u001b[0m\n\u001b[1;32m   <a href='file:///home/idlemaker/.conda/envs/dsenv/lib/python3.10/site-packages/selenium/webdriver/remote/webdriver.py?line=1240'>1241</a>\u001b[0m     by \u001b[39m=\u001b[39m By\u001b[39m.\u001b[39mCSS_SELECTOR\n\u001b[1;32m   <a href='file:///home/idlemaker/.conda/envs/dsenv/lib/python3.10/site-packages/selenium/webdriver/remote/webdriver.py?line=1241'>1242</a>\u001b[0m     value \u001b[39m=\u001b[39m \u001b[39m'\u001b[39m\u001b[39m[name=\u001b[39m\u001b[39m\"\u001b[39m\u001b[39m%s\u001b[39;00m\u001b[39m\"\u001b[39m\u001b[39m]\u001b[39m\u001b[39m'\u001b[39m \u001b[39m%\u001b[39m value\n\u001b[0;32m-> <a href='file:///home/idlemaker/.conda/envs/dsenv/lib/python3.10/site-packages/selenium/webdriver/remote/webdriver.py?line=1243'>1244</a>\u001b[0m \u001b[39mreturn\u001b[39;00m \u001b[39mself\u001b[39;49m\u001b[39m.\u001b[39;49mexecute(Command\u001b[39m.\u001b[39;49mFIND_ELEMENT, {\n\u001b[1;32m   <a href='file:///home/idlemaker/.conda/envs/dsenv/lib/python3.10/site-packages/selenium/webdriver/remote/webdriver.py?line=1244'>1245</a>\u001b[0m     \u001b[39m'\u001b[39;49m\u001b[39musing\u001b[39;49m\u001b[39m'\u001b[39;49m: by,\n\u001b[1;32m   <a href='file:///home/idlemaker/.conda/envs/dsenv/lib/python3.10/site-packages/selenium/webdriver/remote/webdriver.py?line=1245'>1246</a>\u001b[0m     \u001b[39m'\u001b[39;49m\u001b[39mvalue\u001b[39;49m\u001b[39m'\u001b[39;49m: value})[\u001b[39m'\u001b[39m\u001b[39mvalue\u001b[39m\u001b[39m'\u001b[39m]\n",
      "File \u001b[0;32m~/.conda/envs/dsenv/lib/python3.10/site-packages/selenium/webdriver/remote/webdriver.py:424\u001b[0m, in \u001b[0;36mWebDriver.execute\u001b[0;34m(self, driver_command, params)\u001b[0m\n\u001b[1;32m    <a href='file:///home/idlemaker/.conda/envs/dsenv/lib/python3.10/site-packages/selenium/webdriver/remote/webdriver.py?line=421'>422</a>\u001b[0m response \u001b[39m=\u001b[39m \u001b[39mself\u001b[39m\u001b[39m.\u001b[39mcommand_executor\u001b[39m.\u001b[39mexecute(driver_command, params)\n\u001b[1;32m    <a href='file:///home/idlemaker/.conda/envs/dsenv/lib/python3.10/site-packages/selenium/webdriver/remote/webdriver.py?line=422'>423</a>\u001b[0m \u001b[39mif\u001b[39;00m response:\n\u001b[0;32m--> <a href='file:///home/idlemaker/.conda/envs/dsenv/lib/python3.10/site-packages/selenium/webdriver/remote/webdriver.py?line=423'>424</a>\u001b[0m     \u001b[39mself\u001b[39;49m\u001b[39m.\u001b[39;49merror_handler\u001b[39m.\u001b[39;49mcheck_response(response)\n\u001b[1;32m    <a href='file:///home/idlemaker/.conda/envs/dsenv/lib/python3.10/site-packages/selenium/webdriver/remote/webdriver.py?line=424'>425</a>\u001b[0m     response[\u001b[39m'\u001b[39m\u001b[39mvalue\u001b[39m\u001b[39m'\u001b[39m] \u001b[39m=\u001b[39m \u001b[39mself\u001b[39m\u001b[39m.\u001b[39m_unwrap_value(\n\u001b[1;32m    <a href='file:///home/idlemaker/.conda/envs/dsenv/lib/python3.10/site-packages/selenium/webdriver/remote/webdriver.py?line=425'>426</a>\u001b[0m         response\u001b[39m.\u001b[39mget(\u001b[39m'\u001b[39m\u001b[39mvalue\u001b[39m\u001b[39m'\u001b[39m, \u001b[39mNone\u001b[39;00m))\n\u001b[1;32m    <a href='file:///home/idlemaker/.conda/envs/dsenv/lib/python3.10/site-packages/selenium/webdriver/remote/webdriver.py?line=426'>427</a>\u001b[0m     \u001b[39mreturn\u001b[39;00m response\n",
      "File \u001b[0;32m~/.conda/envs/dsenv/lib/python3.10/site-packages/selenium/webdriver/remote/errorhandler.py:247\u001b[0m, in \u001b[0;36mErrorHandler.check_response\u001b[0;34m(self, response)\u001b[0m\n\u001b[1;32m    <a href='file:///home/idlemaker/.conda/envs/dsenv/lib/python3.10/site-packages/selenium/webdriver/remote/errorhandler.py?line=244'>245</a>\u001b[0m         alert_text \u001b[39m=\u001b[39m value[\u001b[39m'\u001b[39m\u001b[39malert\u001b[39m\u001b[39m'\u001b[39m]\u001b[39m.\u001b[39mget(\u001b[39m'\u001b[39m\u001b[39mtext\u001b[39m\u001b[39m'\u001b[39m)\n\u001b[1;32m    <a href='file:///home/idlemaker/.conda/envs/dsenv/lib/python3.10/site-packages/selenium/webdriver/remote/errorhandler.py?line=245'>246</a>\u001b[0m     \u001b[39mraise\u001b[39;00m exception_class(message, screen, stacktrace, alert_text)  \u001b[39m# type: ignore[call-arg]  # mypy is not smart enough here\u001b[39;00m\n\u001b[0;32m--> <a href='file:///home/idlemaker/.conda/envs/dsenv/lib/python3.10/site-packages/selenium/webdriver/remote/errorhandler.py?line=246'>247</a>\u001b[0m \u001b[39mraise\u001b[39;00m exception_class(message, screen, stacktrace)\n",
      "\u001b[0;31mNoSuchElementException\u001b[0m: Message: no such element: Unable to locate element: {\"method\":\"link text\",\"selector\":\"Tampilkan review sebelumnya\"}\n  (Session info: chrome=101.0.4951.64)\nStacktrace:\n#0 0x55c2edfe9533 <unknown>\n#1 0x55c2edd481e8 <unknown>\n#2 0x55c2edd7e2d7 <unknown>\n#3 0x55c2edd7e4a1 <unknown>\n#4 0x55c2eddb1494 <unknown>\n#5 0x55c2edd9bf6d <unknown>\n#6 0x55c2eddaf224 <unknown>\n#7 0x55c2edd9be33 <unknown>\n#8 0x55c2edd7171a <unknown>\n#9 0x55c2edd72875 <unknown>\n#10 0x55c2ee02de1d <unknown>\n#11 0x55c2ee031751 <unknown>\n#12 0x55c2ee01807e <unknown>\n#13 0x55c2ee032388 <unknown>\n#14 0x55c2ee00cfe0 <unknown>\n#15 0x55c2ee04e748 <unknown>\n#16 0x55c2ee04e8c8 <unknown>\n#17 0x55c2ee06870d <unknown>\n#18 0x7fe1a5cedb43 <unknown>\n"
     ]
    }
   ],
   "source": [
    "def driver_setup():\n",
    "    \n",
    "    # options = webdriver.ChromeOptions()\n",
    "    # options.add_argument('--headless')\n",
    "    # options.add_argument('--no-sandbox')\n",
    "    # options.add_argument('--disable-dev-shm-usage')\n",
    "    \n",
    "    driver = webdriver.Chrome()\n",
    "\n",
    "    return driver\n",
    "\n",
    "def check_review_state(driver):\n",
    "    WebDriverWait(driver, timeout=10).until(\"js has done loading\")\n",
    "    show_next_review = driver.find_element(By.LINK_TEXT, \"Tampilkan review sebelumnya\")\n",
    "    while show_next_review:\n",
    "        show_next_review.click()\n",
    "        check_review_state(driver)\n",
    "\n",
    "def review_fetcher(url, driver):\n",
    "    #build a check function to see if there is a \"Tampilkan review sebelumnya\" button. \n",
    "    #if it exists:\n",
    "    #   open it. \n",
    "    #   initialize wait until all the comments have been loaded.\n",
    "    #   then reinitialize the check function.\n",
    "    #if it doesn't, then pass the operations.\n",
    "\n",
    "    #or.. just initialize a webdriverwait operation.\n",
    "    driver.get(url)\n",
    "    try:\n",
    "        \n",
    "        ins = driver.find_element(By.LINK_TEXT, \"Tampilkan review sebelumnya\").click()\n",
    "        WebDriverWait(driver, timeout=10).until(document_initialised)\n",
    "    #two types of exceptions: timeout error and object not found error.\n",
    "    #timeout error should be raised\n",
    "    #object not found should be passed\n",
    "    except:\n",
    "        pass\n",
    "    #then loop through all of them\n",
    "\n",
    "driver = driver_setup()\n",
    "\n",
    "review_fetcher('https://pergikuliner.com/restaurants/jakarta/shaburi-dan-kintan-buffet-scbd', driver)\n"
   ]
  }
 ],
 "metadata": {
  "interpreter": {
   "hash": "b9cc3ea14771d1f25959520c6cee93dc2b2fa57b75d1fe2bce77bd224877f6be"
  },
  "kernelspec": {
   "display_name": "Python 3.10.4 ('dsenv')",
   "language": "python",
   "name": "python3"
  },
  "language_info": {
   "codemirror_mode": {
    "name": "ipython",
    "version": 3
   },
   "file_extension": ".py",
   "mimetype": "text/x-python",
   "name": "python",
   "nbconvert_exporter": "python",
   "pygments_lexer": "ipython3",
   "version": "3.10.4"
  },
  "orig_nbformat": 4
 },
 "nbformat": 4,
 "nbformat_minor": 2
}
