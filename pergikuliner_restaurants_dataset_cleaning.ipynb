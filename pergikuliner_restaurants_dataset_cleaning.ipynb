{
 "cells": [
  {
   "cell_type": "code",
   "execution_count": 20,
   "metadata": {},
   "outputs": [],
   "source": [
    "import numpy as np\n",
    "import pandas as pd\n",
    "import matplotlib.pyplot as plt\n",
    "from selenium import webdriver\n",
    "from bs4 import BeautifulSoup\n",
    "import re"
   ]
  },
  {
   "cell_type": "code",
   "execution_count": 106,
   "metadata": {},
   "outputs": [
    {
     "data": {
      "text/html": [
       "<div>\n",
       "<style scoped>\n",
       "    .dataframe tbody tr th:only-of-type {\n",
       "        vertical-align: middle;\n",
       "    }\n",
       "\n",
       "    .dataframe tbody tr th {\n",
       "        vertical-align: top;\n",
       "    }\n",
       "\n",
       "    .dataframe thead th {\n",
       "        text-align: right;\n",
       "    }\n",
       "</style>\n",
       "<table border=\"1\" class=\"dataframe\">\n",
       "  <thead>\n",
       "    <tr style=\"text-align: right;\">\n",
       "      <th></th>\n",
       "      <th>0</th>\n",
       "      <th>1</th>\n",
       "      <th>2</th>\n",
       "      <th>3</th>\n",
       "      <th>4</th>\n",
       "      <th>5</th>\n",
       "      <th>6</th>\n",
       "      <th>7</th>\n",
       "      <th>8</th>\n",
       "      <th>9</th>\n",
       "      <th>10</th>\n",
       "      <th>11</th>\n",
       "      <th>12</th>\n",
       "      <th>13</th>\n",
       "    </tr>\n",
       "  </thead>\n",
       "  <tbody>\n",
       "    <tr>\n",
       "      <th>0</th>\n",
       "      <td>Momo Paradise</td>\n",
       "      <td>Tipe KulinerJepang</td>\n",
       "      <td>\\n                  Mal Kelapa Gading 5, Lantai Ground\\n...</td>\n",
       "      <td>https://pergikuliner.com/restaurants/jakarta/momo-paradi...</td>\n",
       "      <td>Cabang: ya</td>\n",
       "      <td>\"Tunai,Visa,Master,Debet\"</td>\n",
       "      <td>&lt;bound method PageElement.get_text of &lt;div class=\"promot...</td>\n",
       "      <td>\\n                  Di atas Rp. 200.000 /orang\\n        ...</td>\n",
       "      <td>&lt;bound method PageElement.get_text of &lt;time itemprop=\"op...</td>\n",
       "      <td>100% Halal,Ruang VIP,Bisa reservasi,Area parkir,Alkohol</td>\n",
       "      <td>Wifi,Pesan antar,Area merokok,Area outdoor,24 Jam,Vegeta...</td>\n",
       "      <td>021 45853709</td>\n",
       "      <td>4.71</td>\n",
       "      <td>4.9,4.5,4.9,4.7,4.6</td>\n",
       "    </tr>\n",
       "    <tr>\n",
       "      <th>1</th>\n",
       "      <td>Caspar</td>\n",
       "      <td>Tipe KulinerSpanyol</td>\n",
       "      <td>\\n                  Sudirman Suites Apartment Jakarta, L...</td>\n",
       "      <td>https://pergikuliner.com/restaurants/jakarta/caspar-sudi...</td>\n",
       "      <td>PembayaranTunai, Debet</td>\n",
       "      <td>\"Tunai,Debet\"</td>\n",
       "      <td>NaN</td>\n",
       "      <td>\\n                  Di atas Rp. 200.000 /orang\\n        ...</td>\n",
       "      <td>&lt;bound method PageElement.get_text of &lt;time itemprop=\"op...</td>\n",
       "      <td>Wifi,Area merokok,Area outdoor,100% Halal,Bisa reservasi...</td>\n",
       "      <td>Pesan antar,24 Jam,Ruang VIP,Vegetarian</td>\n",
       "      <td>082217817880</td>\n",
       "      <td>4.58</td>\n",
       "      <td>4.7,4.8,4.8,4.7</td>\n",
       "    </tr>\n",
       "    <tr>\n",
       "      <th>2</th>\n",
       "      <td>Furusato Izakaya</td>\n",
       "      <td>Tipe KulinerJepang</td>\n",
       "      <td>\\n                  Sudirman Suites Apartment Jakarta, L...</td>\n",
       "      <td>https://pergikuliner.com/restaurants/jakarta/furusato-iz...</td>\n",
       "      <td>PembayaranTunai, Visa, Master, Debet</td>\n",
       "      <td>\"Tunai,Visa,Master,Debet\"</td>\n",
       "      <td>NaN</td>\n",
       "      <td>\\n                  Di atas Rp. 200.000 /orang\\n        ...</td>\n",
       "      <td>&lt;bound method PageElement.get_text of &lt;time itemprop=\"op...</td>\n",
       "      <td>Wifi,Area merokok,Area outdoor,Ruang VIP,Bisa reservasi,...</td>\n",
       "      <td>Pesan antar,24 Jam,100% Halal,Vegetarian</td>\n",
       "      <td>08119250020</td>\n",
       "      <td>4.47</td>\n",
       "      <td>4.5,4.8,4.0,4.6,4.5</td>\n",
       "    </tr>\n",
       "    <tr>\n",
       "      <th>3</th>\n",
       "      <td>Osteria Gia</td>\n",
       "      <td>Tipe KulinerItalia</td>\n",
       "      <td>\\n                  Pacific Place Mall, Lantai Ground, E...</td>\n",
       "      <td>https://pergikuliner.com/restaurants/jakarta/osteria-gia...</td>\n",
       "      <td>Cabang: ya</td>\n",
       "      <td>\"Tunai,Visa,Master,Debet\"</td>\n",
       "      <td>NaN</td>\n",
       "      <td>\\n                  Di atas Rp. 200.000 /orang\\n        ...</td>\n",
       "      <td>&lt;bound method PageElement.get_text of &lt;time itemprop=\"op...</td>\n",
       "      <td>Wifi,Area merokok,Bisa reservasi,Area parkir,Alkohol</td>\n",
       "      <td>Pesan antar,Area outdoor,24 Jam,100% Halal,Ruang VIP,Veg...</td>\n",
       "      <td>021 5153300</td>\n",
       "      <td>4.45</td>\n",
       "      <td>4.6,4.5,4.1,4.5,4.5</td>\n",
       "    </tr>\n",
       "    <tr>\n",
       "      <th>4</th>\n",
       "      <td>Isshin</td>\n",
       "      <td>Tipe KulinerJepang</td>\n",
       "      <td>\\n                  Central Park, Lantai Lower Ground\\n ...</td>\n",
       "      <td>https://pergikuliner.com/restaurants/jakarta/isshin-slipi</td>\n",
       "      <td>Cabang: ya</td>\n",
       "      <td>\"Tunai,Visa,Master,Debet,Go-pay\"</td>\n",
       "      <td>NaN</td>\n",
       "      <td>\\n                  Rp. 100.000 - Rp. 200.000 /orang\\n  ...</td>\n",
       "      <td>&lt;bound method PageElement.get_text of &lt;time itemprop=\"op...</td>\n",
       "      <td>Wifi,100% Halal,Bisa reservasi,Area parkir</td>\n",
       "      <td>Pesan antar,Area merokok,Area outdoor,24 Jam,Ruang VIP,A...</td>\n",
       "      <td>021 56985157</td>\n",
       "      <td>4.46</td>\n",
       "      <td>4.7,4.4,4.1,4.7,4.5</td>\n",
       "    </tr>\n",
       "  </tbody>\n",
       "</table>\n",
       "</div>"
      ],
      "text/plain": [
       "                  0                    1  \\\n",
       "0     Momo Paradise   Tipe KulinerJepang   \n",
       "1            Caspar  Tipe KulinerSpanyol   \n",
       "2  Furusato Izakaya   Tipe KulinerJepang   \n",
       "3       Osteria Gia   Tipe KulinerItalia   \n",
       "4            Isshin   Tipe KulinerJepang   \n",
       "\n",
       "                                                             2  \\\n",
       "0  \\n                  Mal Kelapa Gading 5, Lantai Ground\\n...   \n",
       "1  \\n                  Sudirman Suites Apartment Jakarta, L...   \n",
       "2  \\n                  Sudirman Suites Apartment Jakarta, L...   \n",
       "3  \\n                  Pacific Place Mall, Lantai Ground, E...   \n",
       "4  \\n                  Central Park, Lantai Lower Ground\\n ...   \n",
       "\n",
       "                                                             3  \\\n",
       "0  https://pergikuliner.com/restaurants/jakarta/momo-paradi...   \n",
       "1  https://pergikuliner.com/restaurants/jakarta/caspar-sudi...   \n",
       "2  https://pergikuliner.com/restaurants/jakarta/furusato-iz...   \n",
       "3  https://pergikuliner.com/restaurants/jakarta/osteria-gia...   \n",
       "4    https://pergikuliner.com/restaurants/jakarta/isshin-slipi   \n",
       "\n",
       "                                      4                                 5  \\\n",
       "0                            Cabang: ya         \"Tunai,Visa,Master,Debet\"   \n",
       "1                PembayaranTunai, Debet                     \"Tunai,Debet\"   \n",
       "2  PembayaranTunai, Visa, Master, Debet         \"Tunai,Visa,Master,Debet\"   \n",
       "3                            Cabang: ya         \"Tunai,Visa,Master,Debet\"   \n",
       "4                            Cabang: ya  \"Tunai,Visa,Master,Debet,Go-pay\"   \n",
       "\n",
       "                                                             6  \\\n",
       "0  <bound method PageElement.get_text of <div class=\"promot...   \n",
       "1                                                          NaN   \n",
       "2                                                          NaN   \n",
       "3                                                          NaN   \n",
       "4                                                          NaN   \n",
       "\n",
       "                                                             7  \\\n",
       "0  \\n                  Di atas Rp. 200.000 /orang\\n        ...   \n",
       "1  \\n                  Di atas Rp. 200.000 /orang\\n        ...   \n",
       "2  \\n                  Di atas Rp. 200.000 /orang\\n        ...   \n",
       "3  \\n                  Di atas Rp. 200.000 /orang\\n        ...   \n",
       "4  \\n                  Rp. 100.000 - Rp. 200.000 /orang\\n  ...   \n",
       "\n",
       "                                                             8  \\\n",
       "0  <bound method PageElement.get_text of <time itemprop=\"op...   \n",
       "1  <bound method PageElement.get_text of <time itemprop=\"op...   \n",
       "2  <bound method PageElement.get_text of <time itemprop=\"op...   \n",
       "3  <bound method PageElement.get_text of <time itemprop=\"op...   \n",
       "4  <bound method PageElement.get_text of <time itemprop=\"op...   \n",
       "\n",
       "                                                             9  \\\n",
       "0      100% Halal,Ruang VIP,Bisa reservasi,Area parkir,Alkohol   \n",
       "1  Wifi,Area merokok,Area outdoor,100% Halal,Bisa reservasi...   \n",
       "2  Wifi,Area merokok,Area outdoor,Ruang VIP,Bisa reservasi,...   \n",
       "3         Wifi,Area merokok,Bisa reservasi,Area parkir,Alkohol   \n",
       "4                   Wifi,100% Halal,Bisa reservasi,Area parkir   \n",
       "\n",
       "                                                            10            11  \\\n",
       "0  Wifi,Pesan antar,Area merokok,Area outdoor,24 Jam,Vegeta...  021 45853709   \n",
       "1                      Pesan antar,24 Jam,Ruang VIP,Vegetarian  082217817880   \n",
       "2                     Pesan antar,24 Jam,100% Halal,Vegetarian   08119250020   \n",
       "3  Pesan antar,Area outdoor,24 Jam,100% Halal,Ruang VIP,Veg...   021 5153300   \n",
       "4  Pesan antar,Area merokok,Area outdoor,24 Jam,Ruang VIP,A...  021 56985157   \n",
       "\n",
       "     12                   13  \n",
       "0  4.71  4.9,4.5,4.9,4.7,4.6  \n",
       "1  4.58      4.7,4.8,4.8,4.7  \n",
       "2  4.47  4.5,4.8,4.0,4.6,4.5  \n",
       "3  4.45  4.6,4.5,4.1,4.5,4.5  \n",
       "4  4.46  4.7,4.4,4.1,4.7,4.5  "
      ]
     },
     "execution_count": 106,
     "metadata": {},
     "output_type": "execute_result"
    }
   ],
   "source": [
    "df_before = pd.read_csv('~/Documents/GitHub/2022-Pergi-Kuliner-Restaurant-Data/pergikuliner_restaurants_dataset.csv')\n",
    "df_before.head()"
   ]
  },
  {
   "cell_type": "code",
   "execution_count": null,
   "metadata": {},
   "outputs": [],
   "source": [
    "#cleared\n",
    "#col 1, 2, 3, 9, 10 and 12 do not have nans.\n",
    "#col 4: fixed branch data does not exist and the columns got filled with other information. \n",
    "#col 5: cleared. look precise enough, removed the quotation marks.\n",
    "#col 11: fixed 57 phone number nans. some of these are just not scraped.\n",
    "#col 13: fixed bot does not scrape rating when it goes below 4.\n",
    "#col4: fixed put 'kapasitas kursi' in the right cols.\n",
    "\n",
    "#awaiting script rerun\n",
    "#col 6: promotional texts does not get scraped correctly. added str() to get_text() method but the script needs to be rerun.\n",
    "#col 8: schedule does not get scraped correctly. added str() to get_text() method but the script needs to be rerun."
   ]
  },
  {
   "cell_type": "code",
   "execution_count": 128,
   "metadata": {},
   "outputs": [],
   "source": [
    "pd.set_option('max_colwidth', 120)\n",
    "\n",
    "df['14'] = df_before.loc[df_before['4'].str.contains('Kapasitas'), '4']"
   ]
  },
  {
   "cell_type": "code",
   "execution_count": 103,
   "metadata": {},
   "outputs": [],
   "source": [
    "#fixed branch data does not exist and the columns got filled with other information\n",
    "df['4'] = df['4'].str.contains('Cabang: ya')"
   ]
  },
  {
   "cell_type": "code",
   "execution_count": 60,
   "metadata": {},
   "outputs": [
    {
     "name": "stderr",
     "output_type": "stream",
     "text": [
      "/tmp/ipykernel_3735/2660351575.py:2: DeprecationWarning: executable_path has been deprecated, please pass in a Service object\n",
      "  browser = webdriver.Chrome(executable_path=\"/usr/local/bin/chromedriver\")\n"
     ]
    }
   ],
   "source": [
    "def retrieve_phone(ulink):\n",
    "    browser = webdriver.Chrome(executable_path=\"/usr/local/bin/chromedriver\")\n",
    "    browser.get(ulink)\n",
    "    soup = BeautifulSoup(browser.page_source)\n",
    "    phone = str(soup.find(href=re.compile('tel:')).get_text())\n",
    "    browser.close()\n",
    "    return phone\n",
    "\n",
    "missing_phone_url = df.loc[df['11'].isna(), '3']\n",
    "\n",
    "for nums in missing_phone_url.index:\n",
    "    missing_phone_url[nums] = retrieve_phone(missing_phone_url[nums])\n",
    "\n",
    "df.loc[df['11'].isna(), '11'] = missing_phone_url"
   ]
  },
  {
   "cell_type": "code",
   "execution_count": 90,
   "metadata": {},
   "outputs": [
    {
     "name": "stderr",
     "output_type": "stream",
     "text": [
      "/tmp/ipykernel_3735/3001592676.py:2: DeprecationWarning: executable_path has been deprecated, please pass in a Service object\n",
      "  browser = webdriver.Chrome(executable_path=\"/usr/local/bin/chromedriver\")\n"
     ]
    }
   ],
   "source": [
    "def retrieve_ratings(ulink):\n",
    "    browser = webdriver.Chrome(executable_path=\"/usr/local/bin/chromedriver\")\n",
    "    browser.get(ulink)\n",
    "    soup = BeautifulSoup(browser.page_source)\n",
    "    phone = ','.join([i.getText().strip() for i in soup.find_all(class_='rate-box-bottom')])\n",
    "    browser.close()\n",
    "    return phone\n",
    "\n",
    "missing_ratings = df.loc[df.iloc[:,13].str.len() < 19, '13']\n",
    "\n",
    "for idx in missing_ratings.index:\n",
    "    missing_ratings[idx] = retrieve_ratings(df.loc[idx, '3'])\n",
    "\n",
    "df.loc[df.iloc[:,13].str.len() < 19, '13'] = missing_ratings"
   ]
  },
  {
   "cell_type": "code",
   "execution_count": 97,
   "metadata": {},
   "outputs": [
    {
     "data": {
      "text/plain": [
       "19    1500\n",
       "Name: 13, dtype: int64"
      ]
     },
     "execution_count": 97,
     "metadata": {},
     "output_type": "execute_result"
    }
   ],
   "source": [
    "df['13'].str.len().value_counts()"
   ]
  },
  {
   "cell_type": "code",
   "execution_count": 64,
   "metadata": {},
   "outputs": [
    {
     "data": {
      "text/plain": [
       "53        021 5753274\n",
       "54       021 29880942\n",
       "62        021 7209966\n",
       "68       081287620750\n",
       "72        021 7209966\n",
       "76       021 29938888\n",
       "78        022 2030333\n",
       "79       021 31921111\n",
       "96       021 29399588\n",
       "117      021 22771888\n",
       "126      021 23583896\n",
       "155       021 5747777\n",
       "163      021 25501993\n",
       "164      021 62201900\n",
       "168       031 5458888\n",
       "177      021 55911777\n",
       "183      021 80630888\n",
       "212       031 7310010\n",
       "228       031 5468000\n",
       "286       031 2880388\n",
       "306      021 29880888\n",
       "328      021 27887788\n",
       "385      021 29361010\n",
       "426       022 2041873\n",
       "454       031 5477488\n",
       "466      021 22771888\n",
       "507      021 29921383\n",
       "531      021 23583898\n",
       "548     021 2295 6067\n",
       "554      021 27887768\n",
       "566      021 25518888\n",
       "567      021 39507355\n",
       "596      021 29229999\n",
       "663      021 29200088\n",
       "665       021 3805555\n",
       "692     021 2295 6067\n",
       "698      021 27887788\n",
       "754       021 6692093\n",
       "791      021 39703339\n",
       "804      021 29938888\n",
       "805      021 31936868\n",
       "847      031 60038888\n",
       "850      021 73910050\n",
       "851      031 99251222\n",
       "908      021 25981666\n",
       "939       021 5711577\n",
       "963      021 29921234\n",
       "1025      021 3805555\n",
       "1054     021 29932752\n",
       "1070     021 22571188\n",
       "1099     021 22601111\n",
       "1136      021 3805555\n",
       "1178      021 5712189\n",
       "1209      021 3105777\n",
       "1282       0817140283\n",
       "1381     021 22807777\n",
       "1414     021 29880018\n",
       "Name: 3, dtype: object"
      ]
     },
     "execution_count": 64,
     "metadata": {},
     "output_type": "execute_result"
    }
   ],
   "source": [
    "missing_phone_url"
   ]
  },
  {
   "cell_type": "code",
   "execution_count": 36,
   "metadata": {},
   "outputs": [
    {
     "data": {
      "text/plain": [
       "Tunai     1480\n",
       "Debet     1370\n",
       "Visa      1225\n",
       "Master    1225\n",
       "Ovo        395\n",
       "Go-pay     376\n",
       "Dana       221\n",
       "dtype: int64"
      ]
     },
     "execution_count": 36,
     "metadata": {},
     "output_type": "execute_result"
    }
   ],
   "source": [
    "#checks\n",
    "df['5'].str.replace('\"', '').str.split(',', expand=True).stack().value_counts()"
   ]
  },
  {
   "cell_type": "code",
   "execution_count": 38,
   "metadata": {},
   "outputs": [
    {
     "data": {
      "text/plain": [
       "Cabang: ya                                                 966\n",
       "PembayaranTunai, Visa, Master, Debet                       255\n",
       "PembayaranTunai                                             39\n",
       "PembayaranTunai, Visa, Master, Debet, Go-pay, Ovo, Dana     36\n",
       "PembayaranTunai, Debet                                      32\n",
       "PembayaranTunai, Visa, Master, Debet, Go-pay, Ovo           32\n",
       "PembayaranTunai, Debet, Go-pay, Ovo, Dana                   13\n",
       "Kapasitas:  50 kursi                                        12\n",
       "PembayaranTunai, Visa, Master, Debet, Ovo                   11\n",
       "Kapasitas:  30 kursi                                         7\n",
       "PembayaranTunai, Visa, Master, Debet, Go-pay                 6\n",
       "PembayaranTunai, Debet, Go-pay, Ovo                          6\n",
       "Kapasitas:  100 kursi                                        5\n",
       "PembayaranTunai, Go-pay, Ovo, Dana                           5\n",
       "Kapasitas:  70 kursi                                         5\n",
       "Kapasitas:  20 kursi                                         5\n",
       "Kapasitas:  60 kursi                                         5\n",
       "Kapasitas:  150 kursi                                        4\n",
       "PembayaranTunai, Go-pay, Ovo                                 3\n",
       "Kapasitas:  120 kursi                                        3\n",
       "PembayaranTunai, Debet, Go-pay                               3\n",
       "PembayaranVisa, Master, Debet, Go-pay, Ovo, Dana             3\n",
       "Kapasitas:  80 kursi                                         3\n",
       "Kapasitas:  40 kursi                                         3\n",
       "Kapasitas:  25 kursi                                         3\n",
       "Kapasitas:  16 kursi                                         2\n",
       "PembayaranVisa, Master, Debet                                2\n",
       "PembayaranTunai, Visa, Master, Debet, Ovo, Dana              2\n",
       "PembayaranTunai, Ovo                                         2\n",
       "Kapasitas:  200 kursi                                        2\n",
       "Kapasitas:  75 kursi                                         2\n",
       "PembayaranVisa, Master, Debet, Go-pay, Ovo                   1\n",
       "Kapasitas:  38 kursi                                         1\n",
       "Kapasitas:  130 kursi                                        1\n",
       "Kapasitas:  35 kursi                                         1\n",
       "Kapasitas:  10 kursi                                         1\n",
       "PembayaranTunai, Master, Debet, Go-pay, Ovo, Dana            1\n",
       "Kapasitas:  46 kursi                                         1\n",
       "Kapasitas:  9 kursi                                          1\n",
       "PembayaranVisa, Master, Debet, Go-pay                        1\n",
       "Kapasitas:  90 kursi                                         1\n",
       "Kapasitas:  115 kursi                                        1\n",
       "Kapasitas:  132 kursi                                        1\n",
       "Kapasitas:  45 kursi                                         1\n",
       "PembayaranTunai, Go-pay                                      1\n",
       "PembayaranTunai, Visa, Debet                                 1\n",
       "Kapasitas:  12 kursi                                         1\n",
       "PembayaranTunai, Visa, Master, Debet, Go-pay, Dana           1\n",
       "PembayaranTunai, Ovo, Dana                                   1\n",
       "Kapasitas:  400 kursi                                        1\n",
       "PembayaranTunai, Dana                                        1\n",
       "PembayaranTunai, Debet, Ovo                                  1\n",
       "PembayaranTunai, Visa, Master, Debet, Dana                   1\n",
       "PembayaranTunai, Master, Debet                               1\n",
       "Name: 4, dtype: int64"
      ]
     },
     "execution_count": 38,
     "metadata": {},
     "output_type": "execute_result"
    }
   ],
   "source": [
    "df['4'].value_counts()"
   ]
  },
  {
   "cell_type": "code",
   "execution_count": 37,
   "metadata": {},
   "outputs": [],
   "source": [
    "df['5'] = df['5'].str.replace('\"', '')"
   ]
  },
  {
   "cell_type": "code",
   "execution_count": 23,
   "metadata": {},
   "outputs": [
    {
     "data": {
      "text/plain": [
       "['Name', 'culinary_type', 'address', 'url', '']"
      ]
     },
     "execution_count": 23,
     "metadata": {},
     "output_type": "execute_result"
    }
   ],
   "source": [
    "['Name', 'culinary_type', 'address', 'url', '']"
   ]
  }
 ],
 "metadata": {
  "interpreter": {
   "hash": "93a83230a5b69a2fd358e61b20a92f5a3fc637bb0b28cdba8b1b85b3ecdcbc44"
  },
  "kernelspec": {
   "display_name": "Python 3.9.12 ('dsenv')",
   "language": "python",
   "name": "python3"
  },
  "language_info": {
   "codemirror_mode": {
    "name": "ipython",
    "version": 3
   },
   "file_extension": ".py",
   "mimetype": "text/x-python",
   "name": "python",
   "nbconvert_exporter": "python",
   "pygments_lexer": "ipython3",
   "version": "3.9.12"
  },
  "orig_nbformat": 4
 },
 "nbformat": 4,
 "nbformat_minor": 2
}
