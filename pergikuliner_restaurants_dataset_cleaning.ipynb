{
 "cells": [
  {
   "cell_type": "code",
   "execution_count": 11,
   "metadata": {},
   "outputs": [],
   "source": [
    "import numpy as np\n",
    "import pandas as pd\n",
    "import matplotlib.pyplot as plt\n",
    "from selenium import webdriver\n",
    "from bs4 import BeautifulSoup\n",
    "import re\n",
    "import concurrent.futures"
   ]
  },
  {
   "cell_type": "code",
   "execution_count": 10,
   "metadata": {},
   "outputs": [
    {
     "data": {
      "text/html": [
       "<div>\n",
       "<style scoped>\n",
       "    .dataframe tbody tr th:only-of-type {\n",
       "        vertical-align: middle;\n",
       "    }\n",
       "\n",
       "    .dataframe tbody tr th {\n",
       "        vertical-align: top;\n",
       "    }\n",
       "\n",
       "    .dataframe thead th {\n",
       "        text-align: right;\n",
       "    }\n",
       "</style>\n",
       "<table border=\"1\" class=\"dataframe\">\n",
       "  <thead>\n",
       "    <tr style=\"text-align: right;\">\n",
       "      <th></th>\n",
       "      <th>0</th>\n",
       "      <th>1</th>\n",
       "      <th>2</th>\n",
       "      <th>3</th>\n",
       "      <th>4</th>\n",
       "      <th>5</th>\n",
       "      <th>6</th>\n",
       "      <th>7</th>\n",
       "      <th>8</th>\n",
       "      <th>9</th>\n",
       "      <th>10</th>\n",
       "      <th>11</th>\n",
       "      <th>12</th>\n",
       "      <th>13</th>\n",
       "    </tr>\n",
       "  </thead>\n",
       "  <tbody>\n",
       "    <tr>\n",
       "      <th>0</th>\n",
       "      <td>Momo Paradise</td>\n",
       "      <td>Tipe KulinerJepang</td>\n",
       "      <td>\\n                  Mal Kelapa Gading 5, Lanta...</td>\n",
       "      <td>https://pergikuliner.com/restaurants/jakarta/m...</td>\n",
       "      <td>Cabang: ya</td>\n",
       "      <td>\"Tunai,Visa,Master,Debet\"</td>\n",
       "      <td>&lt;bound method PageElement.get_text of &lt;div cla...</td>\n",
       "      <td>\\n                  Di atas Rp. 200.000 /orang...</td>\n",
       "      <td>&lt;bound method PageElement.get_text of &lt;time it...</td>\n",
       "      <td>100% Halal,Ruang VIP,Bisa reservasi,Area parki...</td>\n",
       "      <td>Wifi,Pesan antar,Area merokok,Area outdoor,24 ...</td>\n",
       "      <td>021 45853709</td>\n",
       "      <td>4.71</td>\n",
       "      <td>4.9,4.5,4.9,4.7,4.6</td>\n",
       "    </tr>\n",
       "    <tr>\n",
       "      <th>1</th>\n",
       "      <td>Caspar</td>\n",
       "      <td>Tipe KulinerSpanyol</td>\n",
       "      <td>\\n                  Sudirman Suites Apartment ...</td>\n",
       "      <td>https://pergikuliner.com/restaurants/jakarta/c...</td>\n",
       "      <td>PembayaranTunai, Debet</td>\n",
       "      <td>\"Tunai,Debet\"</td>\n",
       "      <td>NaN</td>\n",
       "      <td>\\n                  Di atas Rp. 200.000 /orang...</td>\n",
       "      <td>&lt;bound method PageElement.get_text of &lt;time it...</td>\n",
       "      <td>Wifi,Area merokok,Area outdoor,100% Halal,Bisa...</td>\n",
       "      <td>Pesan antar,24 Jam,Ruang VIP,Vegetarian</td>\n",
       "      <td>082217817880</td>\n",
       "      <td>4.58</td>\n",
       "      <td>4.7,4.8,4.8,4.7</td>\n",
       "    </tr>\n",
       "    <tr>\n",
       "      <th>2</th>\n",
       "      <td>Furusato Izakaya</td>\n",
       "      <td>Tipe KulinerJepang</td>\n",
       "      <td>\\n                  Sudirman Suites Apartment ...</td>\n",
       "      <td>https://pergikuliner.com/restaurants/jakarta/f...</td>\n",
       "      <td>PembayaranTunai, Visa, Master, Debet</td>\n",
       "      <td>\"Tunai,Visa,Master,Debet\"</td>\n",
       "      <td>NaN</td>\n",
       "      <td>\\n                  Di atas Rp. 200.000 /orang...</td>\n",
       "      <td>&lt;bound method PageElement.get_text of &lt;time it...</td>\n",
       "      <td>Wifi,Area merokok,Area outdoor,Ruang VIP,Bisa ...</td>\n",
       "      <td>Pesan antar,24 Jam,100% Halal,Vegetarian</td>\n",
       "      <td>08119250020</td>\n",
       "      <td>4.47</td>\n",
       "      <td>4.5,4.8,4.0,4.6,4.5</td>\n",
       "    </tr>\n",
       "    <tr>\n",
       "      <th>3</th>\n",
       "      <td>Osteria Gia</td>\n",
       "      <td>Tipe KulinerItalia</td>\n",
       "      <td>\\n                  Pacific Place Mall, Lantai...</td>\n",
       "      <td>https://pergikuliner.com/restaurants/jakarta/o...</td>\n",
       "      <td>Cabang: ya</td>\n",
       "      <td>\"Tunai,Visa,Master,Debet\"</td>\n",
       "      <td>NaN</td>\n",
       "      <td>\\n                  Di atas Rp. 200.000 /orang...</td>\n",
       "      <td>&lt;bound method PageElement.get_text of &lt;time it...</td>\n",
       "      <td>Wifi,Area merokok,Bisa reservasi,Area parkir,A...</td>\n",
       "      <td>Pesan antar,Area outdoor,24 Jam,100% Halal,Rua...</td>\n",
       "      <td>021 5153300</td>\n",
       "      <td>4.45</td>\n",
       "      <td>4.6,4.5,4.1,4.5,4.5</td>\n",
       "    </tr>\n",
       "    <tr>\n",
       "      <th>4</th>\n",
       "      <td>Isshin</td>\n",
       "      <td>Tipe KulinerJepang</td>\n",
       "      <td>\\n                  Central Park, Lantai Lower...</td>\n",
       "      <td>https://pergikuliner.com/restaurants/jakarta/i...</td>\n",
       "      <td>Cabang: ya</td>\n",
       "      <td>\"Tunai,Visa,Master,Debet,Go-pay\"</td>\n",
       "      <td>NaN</td>\n",
       "      <td>\\n                  Rp. 100.000 - Rp. 200.000 ...</td>\n",
       "      <td>&lt;bound method PageElement.get_text of &lt;time it...</td>\n",
       "      <td>Wifi,100% Halal,Bisa reservasi,Area parkir</td>\n",
       "      <td>Pesan antar,Area merokok,Area outdoor,24 Jam,R...</td>\n",
       "      <td>021 56985157</td>\n",
       "      <td>4.46</td>\n",
       "      <td>4.7,4.4,4.1,4.7,4.5</td>\n",
       "    </tr>\n",
       "  </tbody>\n",
       "</table>\n",
       "</div>"
      ],
      "text/plain": [
       "                  0                    1  \\\n",
       "0     Momo Paradise   Tipe KulinerJepang   \n",
       "1            Caspar  Tipe KulinerSpanyol   \n",
       "2  Furusato Izakaya   Tipe KulinerJepang   \n",
       "3       Osteria Gia   Tipe KulinerItalia   \n",
       "4            Isshin   Tipe KulinerJepang   \n",
       "\n",
       "                                                   2  \\\n",
       "0  \\n                  Mal Kelapa Gading 5, Lanta...   \n",
       "1  \\n                  Sudirman Suites Apartment ...   \n",
       "2  \\n                  Sudirman Suites Apartment ...   \n",
       "3  \\n                  Pacific Place Mall, Lantai...   \n",
       "4  \\n                  Central Park, Lantai Lower...   \n",
       "\n",
       "                                                   3  \\\n",
       "0  https://pergikuliner.com/restaurants/jakarta/m...   \n",
       "1  https://pergikuliner.com/restaurants/jakarta/c...   \n",
       "2  https://pergikuliner.com/restaurants/jakarta/f...   \n",
       "3  https://pergikuliner.com/restaurants/jakarta/o...   \n",
       "4  https://pergikuliner.com/restaurants/jakarta/i...   \n",
       "\n",
       "                                      4                                 5  \\\n",
       "0                            Cabang: ya         \"Tunai,Visa,Master,Debet\"   \n",
       "1                PembayaranTunai, Debet                     \"Tunai,Debet\"   \n",
       "2  PembayaranTunai, Visa, Master, Debet         \"Tunai,Visa,Master,Debet\"   \n",
       "3                            Cabang: ya         \"Tunai,Visa,Master,Debet\"   \n",
       "4                            Cabang: ya  \"Tunai,Visa,Master,Debet,Go-pay\"   \n",
       "\n",
       "                                                   6  \\\n",
       "0  <bound method PageElement.get_text of <div cla...   \n",
       "1                                                NaN   \n",
       "2                                                NaN   \n",
       "3                                                NaN   \n",
       "4                                                NaN   \n",
       "\n",
       "                                                   7  \\\n",
       "0  \\n                  Di atas Rp. 200.000 /orang...   \n",
       "1  \\n                  Di atas Rp. 200.000 /orang...   \n",
       "2  \\n                  Di atas Rp. 200.000 /orang...   \n",
       "3  \\n                  Di atas Rp. 200.000 /orang...   \n",
       "4  \\n                  Rp. 100.000 - Rp. 200.000 ...   \n",
       "\n",
       "                                                   8  \\\n",
       "0  <bound method PageElement.get_text of <time it...   \n",
       "1  <bound method PageElement.get_text of <time it...   \n",
       "2  <bound method PageElement.get_text of <time it...   \n",
       "3  <bound method PageElement.get_text of <time it...   \n",
       "4  <bound method PageElement.get_text of <time it...   \n",
       "\n",
       "                                                   9  \\\n",
       "0  100% Halal,Ruang VIP,Bisa reservasi,Area parki...   \n",
       "1  Wifi,Area merokok,Area outdoor,100% Halal,Bisa...   \n",
       "2  Wifi,Area merokok,Area outdoor,Ruang VIP,Bisa ...   \n",
       "3  Wifi,Area merokok,Bisa reservasi,Area parkir,A...   \n",
       "4         Wifi,100% Halal,Bisa reservasi,Area parkir   \n",
       "\n",
       "                                                  10            11    12  \\\n",
       "0  Wifi,Pesan antar,Area merokok,Area outdoor,24 ...  021 45853709  4.71   \n",
       "1            Pesan antar,24 Jam,Ruang VIP,Vegetarian  082217817880  4.58   \n",
       "2           Pesan antar,24 Jam,100% Halal,Vegetarian   08119250020  4.47   \n",
       "3  Pesan antar,Area outdoor,24 Jam,100% Halal,Rua...   021 5153300  4.45   \n",
       "4  Pesan antar,Area merokok,Area outdoor,24 Jam,R...  021 56985157  4.46   \n",
       "\n",
       "                    13  \n",
       "0  4.9,4.5,4.9,4.7,4.6  \n",
       "1      4.7,4.8,4.8,4.7  \n",
       "2  4.5,4.8,4.0,4.6,4.5  \n",
       "3  4.6,4.5,4.1,4.5,4.5  \n",
       "4  4.7,4.4,4.1,4.7,4.5  "
      ]
     },
     "execution_count": 10,
     "metadata": {},
     "output_type": "execute_result"
    }
   ],
   "source": [
    "df_before = pd.read_csv('~/Documents/GitHub/2022-Pergi-Kuliner-Restaurant-Data/pergikuliner_restaurants_dataset.csv')\n",
    "df_before.head()"
   ]
  },
  {
   "cell_type": "code",
   "execution_count": null,
   "metadata": {},
   "outputs": [],
   "source": [
    "#cleared\n",
    "#col 1, 2, 3, 9, 10 and 12 do not have nans.\n",
    "#col 4: fixed branch data does not exist and the columns got filled with other information. \n",
    "#col 5: cleared. look precise enough, removed the quotation marks.\n",
    "#col 11: fixed 57 phone number nans. some of these are just not scraped.\n",
    "#col 13: fixed bot does not scrape rating when it goes below 4.\n",
    "#col4: fixed put 'kapasitas kursi' in the right cols.\n",
    "\n",
    "#awaiting script rerun\n",
    "#col 6: promotional texts does not get scraped correctly. added str() to get_text() method but the script needs to be rerun.\n",
    "#col 8: schedule does not get scraped correctly. added str() to get_text() method but the script needs to be rerun."
   ]
  },
  {
   "cell_type": "code",
   "execution_count": 14,
   "metadata": {},
   "outputs": [
    {
     "name": "stderr",
     "output_type": "stream",
     "text": [
      "/tmp/ipykernel_19732/1528229698.py:16: DeprecationWarning: executable_path has been deprecated, please pass in a Service object\n",
      "  browser = webdriver.Chrome(executable_path=\"/usr/local/bin/chromedriver\")\n"
     ]
    },
    {
     "ename": "TypeError",
     "evalue": "cannot concatenate object of type '<class 'method'>'; only Series and DataFrame objs are valid",
     "output_type": "error",
     "traceback": [
      "\u001b[0;31m---------------------------------------------------------------------------\u001b[0m",
      "\u001b[0;31mTypeError\u001b[0m                                 Traceback (most recent call last)",
      "\u001b[1;32m/home/idlemakerpc/Documents/GitHub/2022-Pergi-Kuliner-Restaurant-Data/pergikuliner_restaurants_dataset_cleaning.ipynb Cell 4'\u001b[0m in \u001b[0;36m<cell line: 25>\u001b[0;34m()\u001b[0m\n\u001b[1;32m     <a href='vscode-notebook-cell:/home/idlemakerpc/Documents/GitHub/2022-Pergi-Kuliner-Restaurant-Data/pergikuliner_restaurants_dataset_cleaning.ipynb#ch0000003?line=20'>21</a>\u001b[0m     bucket\u001b[39m.\u001b[39mappend(f\u001b[39m.\u001b[39mresult)\n\u001b[1;32m     <a href='vscode-notebook-cell:/home/idlemakerpc/Documents/GitHub/2022-Pergi-Kuliner-Restaurant-Data/pergikuliner_restaurants_dataset_cleaning.ipynb#ch0000003?line=22'>23</a>\u001b[0m browser\u001b[39m.\u001b[39mclose()\n\u001b[0;32m---> <a href='vscode-notebook-cell:/home/idlemakerpc/Documents/GitHub/2022-Pergi-Kuliner-Restaurant-Data/pergikuliner_restaurants_dataset_cleaning.ipynb#ch0000003?line=24'>25</a>\u001b[0m df \u001b[39m=\u001b[39m pd\u001b[39m.\u001b[39;49mconcat(bucket)\n",
      "File \u001b[0;32m~/anaconda3/envs/dsenv/lib/python3.9/site-packages/pandas/util/_decorators.py:311\u001b[0m, in \u001b[0;36mdeprecate_nonkeyword_arguments.<locals>.decorate.<locals>.wrapper\u001b[0;34m(*args, **kwargs)\u001b[0m\n\u001b[1;32m    <a href='file:///home/idlemakerpc/anaconda3/envs/dsenv/lib/python3.9/site-packages/pandas/util/_decorators.py?line=304'>305</a>\u001b[0m \u001b[39mif\u001b[39;00m \u001b[39mlen\u001b[39m(args) \u001b[39m>\u001b[39m num_allow_args:\n\u001b[1;32m    <a href='file:///home/idlemakerpc/anaconda3/envs/dsenv/lib/python3.9/site-packages/pandas/util/_decorators.py?line=305'>306</a>\u001b[0m     warnings\u001b[39m.\u001b[39mwarn(\n\u001b[1;32m    <a href='file:///home/idlemakerpc/anaconda3/envs/dsenv/lib/python3.9/site-packages/pandas/util/_decorators.py?line=306'>307</a>\u001b[0m         msg\u001b[39m.\u001b[39mformat(arguments\u001b[39m=\u001b[39marguments),\n\u001b[1;32m    <a href='file:///home/idlemakerpc/anaconda3/envs/dsenv/lib/python3.9/site-packages/pandas/util/_decorators.py?line=307'>308</a>\u001b[0m         \u001b[39mFutureWarning\u001b[39;00m,\n\u001b[1;32m    <a href='file:///home/idlemakerpc/anaconda3/envs/dsenv/lib/python3.9/site-packages/pandas/util/_decorators.py?line=308'>309</a>\u001b[0m         stacklevel\u001b[39m=\u001b[39mstacklevel,\n\u001b[1;32m    <a href='file:///home/idlemakerpc/anaconda3/envs/dsenv/lib/python3.9/site-packages/pandas/util/_decorators.py?line=309'>310</a>\u001b[0m     )\n\u001b[0;32m--> <a href='file:///home/idlemakerpc/anaconda3/envs/dsenv/lib/python3.9/site-packages/pandas/util/_decorators.py?line=310'>311</a>\u001b[0m \u001b[39mreturn\u001b[39;00m func(\u001b[39m*\u001b[39;49margs, \u001b[39m*\u001b[39;49m\u001b[39m*\u001b[39;49mkwargs)\n",
      "File \u001b[0;32m~/anaconda3/envs/dsenv/lib/python3.9/site-packages/pandas/core/reshape/concat.py:347\u001b[0m, in \u001b[0;36mconcat\u001b[0;34m(objs, axis, join, ignore_index, keys, levels, names, verify_integrity, sort, copy)\u001b[0m\n\u001b[1;32m    <a href='file:///home/idlemakerpc/anaconda3/envs/dsenv/lib/python3.9/site-packages/pandas/core/reshape/concat.py?line=142'>143</a>\u001b[0m \u001b[39m@deprecate_nonkeyword_arguments\u001b[39m(version\u001b[39m=\u001b[39m\u001b[39mNone\u001b[39;00m, allowed_args\u001b[39m=\u001b[39m[\u001b[39m\"\u001b[39m\u001b[39mobjs\u001b[39m\u001b[39m\"\u001b[39m])\n\u001b[1;32m    <a href='file:///home/idlemakerpc/anaconda3/envs/dsenv/lib/python3.9/site-packages/pandas/core/reshape/concat.py?line=143'>144</a>\u001b[0m \u001b[39mdef\u001b[39;00m \u001b[39mconcat\u001b[39m(\n\u001b[1;32m    <a href='file:///home/idlemakerpc/anaconda3/envs/dsenv/lib/python3.9/site-packages/pandas/core/reshape/concat.py?line=144'>145</a>\u001b[0m     objs: Iterable[NDFrame] \u001b[39m|\u001b[39m Mapping[Hashable, NDFrame],\n\u001b[0;32m   (...)\u001b[0m\n\u001b[1;32m    <a href='file:///home/idlemakerpc/anaconda3/envs/dsenv/lib/python3.9/site-packages/pandas/core/reshape/concat.py?line=153'>154</a>\u001b[0m     copy: \u001b[39mbool\u001b[39m \u001b[39m=\u001b[39m \u001b[39mTrue\u001b[39;00m,\n\u001b[1;32m    <a href='file:///home/idlemakerpc/anaconda3/envs/dsenv/lib/python3.9/site-packages/pandas/core/reshape/concat.py?line=154'>155</a>\u001b[0m ) \u001b[39m-\u001b[39m\u001b[39m>\u001b[39m DataFrame \u001b[39m|\u001b[39m Series:\n\u001b[1;32m    <a href='file:///home/idlemakerpc/anaconda3/envs/dsenv/lib/python3.9/site-packages/pandas/core/reshape/concat.py?line=155'>156</a>\u001b[0m     \u001b[39m\"\"\"\u001b[39;00m\n\u001b[1;32m    <a href='file:///home/idlemakerpc/anaconda3/envs/dsenv/lib/python3.9/site-packages/pandas/core/reshape/concat.py?line=156'>157</a>\u001b[0m \u001b[39m    Concatenate pandas objects along a particular axis with optional set logic\u001b[39;00m\n\u001b[1;32m    <a href='file:///home/idlemakerpc/anaconda3/envs/dsenv/lib/python3.9/site-packages/pandas/core/reshape/concat.py?line=157'>158</a>\u001b[0m \u001b[39m    along the other axes.\u001b[39;00m\n\u001b[0;32m   (...)\u001b[0m\n\u001b[1;32m    <a href='file:///home/idlemakerpc/anaconda3/envs/dsenv/lib/python3.9/site-packages/pandas/core/reshape/concat.py?line=344'>345</a>\u001b[0m \u001b[39m    ValueError: Indexes have overlapping values: ['a']\u001b[39;00m\n\u001b[1;32m    <a href='file:///home/idlemakerpc/anaconda3/envs/dsenv/lib/python3.9/site-packages/pandas/core/reshape/concat.py?line=345'>346</a>\u001b[0m \u001b[39m    \"\"\"\u001b[39;00m\n\u001b[0;32m--> <a href='file:///home/idlemakerpc/anaconda3/envs/dsenv/lib/python3.9/site-packages/pandas/core/reshape/concat.py?line=346'>347</a>\u001b[0m     op \u001b[39m=\u001b[39m _Concatenator(\n\u001b[1;32m    <a href='file:///home/idlemakerpc/anaconda3/envs/dsenv/lib/python3.9/site-packages/pandas/core/reshape/concat.py?line=347'>348</a>\u001b[0m         objs,\n\u001b[1;32m    <a href='file:///home/idlemakerpc/anaconda3/envs/dsenv/lib/python3.9/site-packages/pandas/core/reshape/concat.py?line=348'>349</a>\u001b[0m         axis\u001b[39m=\u001b[39;49maxis,\n\u001b[1;32m    <a href='file:///home/idlemakerpc/anaconda3/envs/dsenv/lib/python3.9/site-packages/pandas/core/reshape/concat.py?line=349'>350</a>\u001b[0m         ignore_index\u001b[39m=\u001b[39;49mignore_index,\n\u001b[1;32m    <a href='file:///home/idlemakerpc/anaconda3/envs/dsenv/lib/python3.9/site-packages/pandas/core/reshape/concat.py?line=350'>351</a>\u001b[0m         join\u001b[39m=\u001b[39;49mjoin,\n\u001b[1;32m    <a href='file:///home/idlemakerpc/anaconda3/envs/dsenv/lib/python3.9/site-packages/pandas/core/reshape/concat.py?line=351'>352</a>\u001b[0m         keys\u001b[39m=\u001b[39;49mkeys,\n\u001b[1;32m    <a href='file:///home/idlemakerpc/anaconda3/envs/dsenv/lib/python3.9/site-packages/pandas/core/reshape/concat.py?line=352'>353</a>\u001b[0m         levels\u001b[39m=\u001b[39;49mlevels,\n\u001b[1;32m    <a href='file:///home/idlemakerpc/anaconda3/envs/dsenv/lib/python3.9/site-packages/pandas/core/reshape/concat.py?line=353'>354</a>\u001b[0m         names\u001b[39m=\u001b[39;49mnames,\n\u001b[1;32m    <a href='file:///home/idlemakerpc/anaconda3/envs/dsenv/lib/python3.9/site-packages/pandas/core/reshape/concat.py?line=354'>355</a>\u001b[0m         verify_integrity\u001b[39m=\u001b[39;49mverify_integrity,\n\u001b[1;32m    <a href='file:///home/idlemakerpc/anaconda3/envs/dsenv/lib/python3.9/site-packages/pandas/core/reshape/concat.py?line=355'>356</a>\u001b[0m         copy\u001b[39m=\u001b[39;49mcopy,\n\u001b[1;32m    <a href='file:///home/idlemakerpc/anaconda3/envs/dsenv/lib/python3.9/site-packages/pandas/core/reshape/concat.py?line=356'>357</a>\u001b[0m         sort\u001b[39m=\u001b[39;49msort,\n\u001b[1;32m    <a href='file:///home/idlemakerpc/anaconda3/envs/dsenv/lib/python3.9/site-packages/pandas/core/reshape/concat.py?line=357'>358</a>\u001b[0m     )\n\u001b[1;32m    <a href='file:///home/idlemakerpc/anaconda3/envs/dsenv/lib/python3.9/site-packages/pandas/core/reshape/concat.py?line=359'>360</a>\u001b[0m     \u001b[39mreturn\u001b[39;00m op\u001b[39m.\u001b[39mget_result()\n",
      "File \u001b[0;32m~/anaconda3/envs/dsenv/lib/python3.9/site-packages/pandas/core/reshape/concat.py:437\u001b[0m, in \u001b[0;36m_Concatenator.__init__\u001b[0;34m(self, objs, axis, join, keys, levels, names, ignore_index, verify_integrity, copy, sort)\u001b[0m\n\u001b[1;32m    <a href='file:///home/idlemakerpc/anaconda3/envs/dsenv/lib/python3.9/site-packages/pandas/core/reshape/concat.py?line=431'>432</a>\u001b[0m     \u001b[39mif\u001b[39;00m \u001b[39mnot\u001b[39;00m \u001b[39misinstance\u001b[39m(obj, (ABCSeries, ABCDataFrame)):\n\u001b[1;32m    <a href='file:///home/idlemakerpc/anaconda3/envs/dsenv/lib/python3.9/site-packages/pandas/core/reshape/concat.py?line=432'>433</a>\u001b[0m         msg \u001b[39m=\u001b[39m (\n\u001b[1;32m    <a href='file:///home/idlemakerpc/anaconda3/envs/dsenv/lib/python3.9/site-packages/pandas/core/reshape/concat.py?line=433'>434</a>\u001b[0m             \u001b[39mf\u001b[39m\u001b[39m\"\u001b[39m\u001b[39mcannot concatenate object of type \u001b[39m\u001b[39m'\u001b[39m\u001b[39m{\u001b[39;00m\u001b[39mtype\u001b[39m(obj)\u001b[39m}\u001b[39;00m\u001b[39m'\u001b[39m\u001b[39m; \u001b[39m\u001b[39m\"\u001b[39m\n\u001b[1;32m    <a href='file:///home/idlemakerpc/anaconda3/envs/dsenv/lib/python3.9/site-packages/pandas/core/reshape/concat.py?line=434'>435</a>\u001b[0m             \u001b[39m\"\u001b[39m\u001b[39monly Series and DataFrame objs are valid\u001b[39m\u001b[39m\"\u001b[39m\n\u001b[1;32m    <a href='file:///home/idlemakerpc/anaconda3/envs/dsenv/lib/python3.9/site-packages/pandas/core/reshape/concat.py?line=435'>436</a>\u001b[0m         )\n\u001b[0;32m--> <a href='file:///home/idlemakerpc/anaconda3/envs/dsenv/lib/python3.9/site-packages/pandas/core/reshape/concat.py?line=436'>437</a>\u001b[0m         \u001b[39mraise\u001b[39;00m \u001b[39mTypeError\u001b[39;00m(msg)\n\u001b[1;32m    <a href='file:///home/idlemakerpc/anaconda3/envs/dsenv/lib/python3.9/site-packages/pandas/core/reshape/concat.py?line=438'>439</a>\u001b[0m     ndims\u001b[39m.\u001b[39madd(obj\u001b[39m.\u001b[39mndim)\n\u001b[1;32m    <a href='file:///home/idlemakerpc/anaconda3/envs/dsenv/lib/python3.9/site-packages/pandas/core/reshape/concat.py?line=440'>441</a>\u001b[0m \u001b[39m# get the sample\u001b[39;00m\n\u001b[1;32m    <a href='file:///home/idlemakerpc/anaconda3/envs/dsenv/lib/python3.9/site-packages/pandas/core/reshape/concat.py?line=441'>442</a>\u001b[0m \u001b[39m# want the highest ndim that we have, and must be non-empty\u001b[39;00m\n\u001b[1;32m    <a href='file:///home/idlemakerpc/anaconda3/envs/dsenv/lib/python3.9/site-packages/pandas/core/reshape/concat.py?line=442'>443</a>\u001b[0m \u001b[39m# unless all objs are empty\u001b[39;00m\n",
      "\u001b[0;31mTypeError\u001b[0m: cannot concatenate object of type '<class 'method'>'; only Series and DataFrame objs are valid"
     ]
    }
   ],
   "source": [
    "def retrieve_schpromo(ulink, browser):\n",
    "    browserDriver = browser\n",
    "    browserDriver.get(ulink)\n",
    "    soup = BeautifulSoup(browserDriver.page_source)\n",
    "\n",
    "    properties = {'itemprop': 'openingHours',\n",
    "                  'class': 'promotional-text'}\n",
    "    subbucket = []\n",
    "    for key, val in properties.items():\n",
    "        results = soup.find(attrs={key: val}).get_text() if not None else None\n",
    "        subbucket.append(results)\n",
    "    subbucket = pd.Series(subbucket)\n",
    "\n",
    "    return subbucket\n",
    "\n",
    "browser = webdriver.Chrome(executable_path=\"/usr/local/bin/chromedriver\")\n",
    "\n",
    "bucket = []\n",
    "with concurrent.futures.ThreadPoolExecutor(max_workers=5) as executor:\n",
    "    f = executor.submit(retrieve_schpromo, df_before['3'], browser)\n",
    "    bucket.append(f.result())\n",
    "\n",
    "browser.close()\n",
    "\n",
    "df = pd.concat(bucket)"
   ]
  },
  {
   "cell_type": "code",
   "execution_count": 128,
   "metadata": {},
   "outputs": [],
   "source": [
    "# fixed put 'kapasitas kursi' in the right cols.\n",
    "pd.set_option('max_colwidth', 120)\n",
    "df['14'] = df_before.loc[df_before['4'].str.contains('Kapasitas'), '4']"
   ]
  },
  {
   "cell_type": "code",
   "execution_count": 103,
   "metadata": {},
   "outputs": [],
   "source": [
    "#fixed branch data does not exist and the columns got filled with other information\n",
    "df['4'] = df['4'].str.contains('Cabang: ya')"
   ]
  },
  {
   "cell_type": "code",
   "execution_count": 60,
   "metadata": {},
   "outputs": [
    {
     "name": "stderr",
     "output_type": "stream",
     "text": [
      "/tmp/ipykernel_3735/2660351575.py:2: DeprecationWarning: executable_path has been deprecated, please pass in a Service object\n",
      "  browser = webdriver.Chrome(executable_path=\"/usr/local/bin/chromedriver\")\n"
     ]
    }
   ],
   "source": [
    "# fixed 57 phone number nans. some of these are just not scraped.\n",
    "def retrieve_phone(ulink):\n",
    "    browser = webdriver.Chrome(executable_path=\"/usr/local/bin/chromedriver\")\n",
    "    browser.get(ulink)\n",
    "    soup = BeautifulSoup(browser.page_source)\n",
    "    phone = str(soup.find(href=re.compile('tel:')).get_text())\n",
    "    browser.close()\n",
    "    return phone\n",
    "\n",
    "missing_phone_url = df.loc[df['11'].isna(), '3']\n",
    "\n",
    "for nums in missing_phone_url.index:\n",
    "    missing_phone_url[nums] = retrieve_phone(missing_phone_url[nums])\n",
    "\n",
    "df.loc[df['11'].isna(), '11'] = missing_phone_url"
   ]
  },
  {
   "cell_type": "code",
   "execution_count": 90,
   "metadata": {},
   "outputs": [
    {
     "name": "stderr",
     "output_type": "stream",
     "text": [
      "/tmp/ipykernel_3735/3001592676.py:2: DeprecationWarning: executable_path has been deprecated, please pass in a Service object\n",
      "  browser = webdriver.Chrome(executable_path=\"/usr/local/bin/chromedriver\")\n"
     ]
    }
   ],
   "source": [
    "# fixed bot does not scrape rating when it goes below 4.\n",
    "def retrieve_ratings(ulink):\n",
    "    browser = webdriver.Chrome(executable_path=\"/usr/local/bin/chromedriver\")\n",
    "    browser.get(ulink)\n",
    "    soup = BeautifulSoup(browser.page_source)\n",
    "    phone = ','.join([i.getText().strip() for i in soup.find_all(class_='rate-box-bottom')])\n",
    "    browser.close()\n",
    "    return phone\n",
    "\n",
    "missing_ratings = df.loc[df.iloc[:,13].str.len() < 19, '13']\n",
    "\n",
    "for idx in missing_ratings.index:\n",
    "    missing_ratings[idx] = retrieve_ratings(df.loc[idx, '3'])\n",
    "\n",
    "df.loc[df.iloc[:,13].str.len() < 19, '13'] = missing_ratings"
   ]
  },
  {
   "cell_type": "code",
   "execution_count": 97,
   "metadata": {},
   "outputs": [
    {
     "data": {
      "text/plain": [
       "19    1500\n",
       "Name: 13, dtype: int64"
      ]
     },
     "execution_count": 97,
     "metadata": {},
     "output_type": "execute_result"
    }
   ],
   "source": [
    "#checks\n",
    "df['13'].str.len().value_counts()"
   ]
  },
  {
   "cell_type": "code",
   "execution_count": 64,
   "metadata": {},
   "outputs": [
    {
     "data": {
      "text/plain": [
       "53        021 5753274\n",
       "54       021 29880942\n",
       "62        021 7209966\n",
       "68       081287620750\n",
       "72        021 7209966\n",
       "76       021 29938888\n",
       "78        022 2030333\n",
       "79       021 31921111\n",
       "96       021 29399588\n",
       "117      021 22771888\n",
       "126      021 23583896\n",
       "155       021 5747777\n",
       "163      021 25501993\n",
       "164      021 62201900\n",
       "168       031 5458888\n",
       "177      021 55911777\n",
       "183      021 80630888\n",
       "212       031 7310010\n",
       "228       031 5468000\n",
       "286       031 2880388\n",
       "306      021 29880888\n",
       "328      021 27887788\n",
       "385      021 29361010\n",
       "426       022 2041873\n",
       "454       031 5477488\n",
       "466      021 22771888\n",
       "507      021 29921383\n",
       "531      021 23583898\n",
       "548     021 2295 6067\n",
       "554      021 27887768\n",
       "566      021 25518888\n",
       "567      021 39507355\n",
       "596      021 29229999\n",
       "663      021 29200088\n",
       "665       021 3805555\n",
       "692     021 2295 6067\n",
       "698      021 27887788\n",
       "754       021 6692093\n",
       "791      021 39703339\n",
       "804      021 29938888\n",
       "805      021 31936868\n",
       "847      031 60038888\n",
       "850      021 73910050\n",
       "851      031 99251222\n",
       "908      021 25981666\n",
       "939       021 5711577\n",
       "963      021 29921234\n",
       "1025      021 3805555\n",
       "1054     021 29932752\n",
       "1070     021 22571188\n",
       "1099     021 22601111\n",
       "1136      021 3805555\n",
       "1178      021 5712189\n",
       "1209      021 3105777\n",
       "1282       0817140283\n",
       "1381     021 22807777\n",
       "1414     021 29880018\n",
       "Name: 3, dtype: object"
      ]
     },
     "execution_count": 64,
     "metadata": {},
     "output_type": "execute_result"
    }
   ],
   "source": [
    "#checks\n",
    "missing_phone_url"
   ]
  },
  {
   "cell_type": "code",
   "execution_count": 36,
   "metadata": {},
   "outputs": [
    {
     "data": {
      "text/plain": [
       "Tunai     1480\n",
       "Debet     1370\n",
       "Visa      1225\n",
       "Master    1225\n",
       "Ovo        395\n",
       "Go-pay     376\n",
       "Dana       221\n",
       "dtype: int64"
      ]
     },
     "execution_count": 36,
     "metadata": {},
     "output_type": "execute_result"
    }
   ],
   "source": [
    "#checks\n",
    "df['5'].str.replace('\"', '').str.split(',', expand=True).stack().value_counts()"
   ]
  },
  {
   "cell_type": "code",
   "execution_count": 38,
   "metadata": {},
   "outputs": [
    {
     "data": {
      "text/plain": [
       "Cabang: ya                                                 966\n",
       "PembayaranTunai, Visa, Master, Debet                       255\n",
       "PembayaranTunai                                             39\n",
       "PembayaranTunai, Visa, Master, Debet, Go-pay, Ovo, Dana     36\n",
       "PembayaranTunai, Debet                                      32\n",
       "PembayaranTunai, Visa, Master, Debet, Go-pay, Ovo           32\n",
       "PembayaranTunai, Debet, Go-pay, Ovo, Dana                   13\n",
       "Kapasitas:  50 kursi                                        12\n",
       "PembayaranTunai, Visa, Master, Debet, Ovo                   11\n",
       "Kapasitas:  30 kursi                                         7\n",
       "PembayaranTunai, Visa, Master, Debet, Go-pay                 6\n",
       "PembayaranTunai, Debet, Go-pay, Ovo                          6\n",
       "Kapasitas:  100 kursi                                        5\n",
       "PembayaranTunai, Go-pay, Ovo, Dana                           5\n",
       "Kapasitas:  70 kursi                                         5\n",
       "Kapasitas:  20 kursi                                         5\n",
       "Kapasitas:  60 kursi                                         5\n",
       "Kapasitas:  150 kursi                                        4\n",
       "PembayaranTunai, Go-pay, Ovo                                 3\n",
       "Kapasitas:  120 kursi                                        3\n",
       "PembayaranTunai, Debet, Go-pay                               3\n",
       "PembayaranVisa, Master, Debet, Go-pay, Ovo, Dana             3\n",
       "Kapasitas:  80 kursi                                         3\n",
       "Kapasitas:  40 kursi                                         3\n",
       "Kapasitas:  25 kursi                                         3\n",
       "Kapasitas:  16 kursi                                         2\n",
       "PembayaranVisa, Master, Debet                                2\n",
       "PembayaranTunai, Visa, Master, Debet, Ovo, Dana              2\n",
       "PembayaranTunai, Ovo                                         2\n",
       "Kapasitas:  200 kursi                                        2\n",
       "Kapasitas:  75 kursi                                         2\n",
       "PembayaranVisa, Master, Debet, Go-pay, Ovo                   1\n",
       "Kapasitas:  38 kursi                                         1\n",
       "Kapasitas:  130 kursi                                        1\n",
       "Kapasitas:  35 kursi                                         1\n",
       "Kapasitas:  10 kursi                                         1\n",
       "PembayaranTunai, Master, Debet, Go-pay, Ovo, Dana            1\n",
       "Kapasitas:  46 kursi                                         1\n",
       "Kapasitas:  9 kursi                                          1\n",
       "PembayaranVisa, Master, Debet, Go-pay                        1\n",
       "Kapasitas:  90 kursi                                         1\n",
       "Kapasitas:  115 kursi                                        1\n",
       "Kapasitas:  132 kursi                                        1\n",
       "Kapasitas:  45 kursi                                         1\n",
       "PembayaranTunai, Go-pay                                      1\n",
       "PembayaranTunai, Visa, Debet                                 1\n",
       "Kapasitas:  12 kursi                                         1\n",
       "PembayaranTunai, Visa, Master, Debet, Go-pay, Dana           1\n",
       "PembayaranTunai, Ovo, Dana                                   1\n",
       "Kapasitas:  400 kursi                                        1\n",
       "PembayaranTunai, Dana                                        1\n",
       "PembayaranTunai, Debet, Ovo                                  1\n",
       "PembayaranTunai, Visa, Master, Debet, Dana                   1\n",
       "PembayaranTunai, Master, Debet                               1\n",
       "Name: 4, dtype: int64"
      ]
     },
     "execution_count": 38,
     "metadata": {},
     "output_type": "execute_result"
    }
   ],
   "source": [
    "df['4'].value_counts()"
   ]
  },
  {
   "cell_type": "code",
   "execution_count": 37,
   "metadata": {},
   "outputs": [],
   "source": [
    "# fixed\n",
    "df['5'] = df['5'].str.replace('\"', '')"
   ]
  },
  {
   "cell_type": "code",
   "execution_count": 23,
   "metadata": {},
   "outputs": [
    {
     "data": {
      "text/plain": [
       "['Name', 'culinary_type', 'address', 'url', '']"
      ]
     },
     "execution_count": 23,
     "metadata": {},
     "output_type": "execute_result"
    }
   ],
   "source": [
    "['Name', 'culinary_type', 'address', 'url', '']"
   ]
  }
 ],
 "metadata": {
  "interpreter": {
   "hash": "93a83230a5b69a2fd358e61b20a92f5a3fc637bb0b28cdba8b1b85b3ecdcbc44"
  },
  "kernelspec": {
   "display_name": "Python 3.9.12 ('dsenv')",
   "language": "python",
   "name": "python3"
  },
  "language_info": {
   "codemirror_mode": {
    "name": "ipython",
    "version": 3
   },
   "file_extension": ".py",
   "mimetype": "text/x-python",
   "name": "python",
   "nbconvert_exporter": "python",
   "pygments_lexer": "ipython3",
   "version": "3.9.12"
  },
  "orig_nbformat": 4
 },
 "nbformat": 4,
 "nbformat_minor": 2
}
